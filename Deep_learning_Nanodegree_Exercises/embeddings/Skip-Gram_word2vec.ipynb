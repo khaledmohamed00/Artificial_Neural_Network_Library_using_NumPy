{
 "cells": [
  {
   "cell_type": "markdown",
   "metadata": {},
   "source": [
    "# Skip-gram word2vec\n",
    "\n",
    "In this notebook, I'll lead you through using TensorFlow to implement the word2vec algorithm using the skip-gram architecture. By implementing this, you'll learn about embedding words for use in natural language processing. This will come in handy when dealing with things like machine translation.\n",
    "\n",
    "## Readings\n",
    "\n",
    "Here are the resources I used to build this notebook. I suggest reading these either beforehand or while you're working on this material.\n",
    "\n",
    "* A really good [conceptual overview](http://mccormickml.com/2016/04/19/word2vec-tutorial-the-skip-gram-model/) of word2vec from Chris McCormick \n",
    "* [First word2vec paper](https://arxiv.org/pdf/1301.3781.pdf) from Mikolov et al.\n",
    "* [NIPS paper](http://papers.nips.cc/paper/5021-distributed-representations-of-words-and-phrases-and-their-compositionality.pdf) with improvements for word2vec also from Mikolov et al.\n",
    "* An [implementation of word2vec](http://www.thushv.com/natural_language_processing/word2vec-part-1-nlp-with-deep-learning-with-tensorflow-skip-gram/) from Thushan Ganegedara\n",
    "* TensorFlow [word2vec tutorial](https://www.tensorflow.org/tutorials/word2vec)\n",
    "\n",
    "## Word embeddings\n",
    "\n",
    "When you're dealing with words in text, you end up with tens of thousands of classes to predict, one for each word. Trying to one-hot encode these words is massively inefficient, you'll have one element set to 1 and the other 50,000 set to 0. The matrix multiplication going into the first hidden layer will have almost all of the resulting values be zero. This a huge waste of computation. \n",
    "\n",
    "![one-hot encodings](assets/one_hot_encoding.png)\n",
    "\n",
    "To solve this problem and greatly increase the efficiency of our networks, we use what are called embeddings. Embeddings are just a fully connected layer like you've seen before. We call this layer the embedding layer and the weights are embedding weights. We skip the multiplication into the embedding layer by instead directly grabbing the hidden layer values from the weight matrix. We can do this because the multiplication of a one-hot encoded vector with a matrix returns the row of the matrix corresponding the index of the \"on\" input unit.\n",
    "\n",
    "![lookup](assets/lookup_matrix.png)\n",
    "\n",
    "Instead of doing the matrix multiplication, we use the weight matrix as a lookup table. We encode the words as integers, for example \"heart\" is encoded as 958, \"mind\" as 18094. Then to get hidden layer values for \"heart\", you just take the 958th row of the embedding matrix. This process is called an **embedding lookup** and the number of hidden units is the **embedding dimension**.\n",
    "\n",
    "<img src='assets/tokenize_lookup.png' width=500>\n",
    " \n",
    "There is nothing magical going on here. The embedding lookup table is just a weight matrix. The embedding layer is just a hidden layer. The lookup is just a shortcut for the matrix multiplication. The lookup table is trained just like any weight matrix as well.\n",
    "\n",
    "Embeddings aren't only used for words of course. You can use them for any model where you have a massive number of classes. A particular type of model called **Word2Vec** uses the embedding layer to find vector representations of words that contain semantic meaning.\n",
    "\n"
   ]
  },
  {
   "cell_type": "markdown",
   "metadata": {},
   "source": [
    "## Word2Vec\n",
    "\n",
    "The word2vec algorithm finds much more efficient representations by finding vectors that represent the words. These vectors also contain semantic information about the words. Words that show up in similar contexts, such as \"black\", \"white\", and \"red\" will have vectors near each other. There are two architectures for implementing word2vec, CBOW (Continuous Bag-Of-Words) and Skip-gram.\n",
    "\n",
    "<img src=\"assets/word2vec_architectures.png\" width=\"500\">\n",
    "\n",
    "In this implementation, we'll be using the skip-gram architecture because it performs better than CBOW. Here, we pass in a word and try to predict the words surrounding it in the text. In this way, we can train the network to learn representations for words that show up in similar contexts.\n",
    "\n",
    "First up, importing packages."
   ]
  },
  {
   "cell_type": "code",
   "execution_count": 1,
   "metadata": {
    "collapsed": true
   },
   "outputs": [],
   "source": [
    "import time\n",
    "\n",
    "import numpy as np\n",
    "import tensorflow as tf\n",
    "\n",
    "import utils"
   ]
  },
  {
   "cell_type": "markdown",
   "metadata": {},
   "source": [
    "Load the [text8 dataset](http://mattmahoney.net/dc/textdata.html), a file of cleaned up Wikipedia articles from Matt Mahoney. The next cell will download the data set to the `data` folder. Then you can extract it and delete the archive file to save storage space."
   ]
  },
  {
   "cell_type": "code",
   "execution_count": 2,
   "metadata": {},
   "outputs": [
    {
     "name": "stderr",
     "output_type": "stream",
     "text": [
      "Text8 Dataset: 31.4MB [01:27, 360kB/s]                               \n"
     ]
    }
   ],
   "source": [
    "from urllib.request import urlretrieve\n",
    "from os.path import isfile, isdir\n",
    "from tqdm import tqdm\n",
    "import zipfile\n",
    "\n",
    "dataset_folder_path = 'data'\n",
    "dataset_filename = 'text8.zip'\n",
    "dataset_name = 'Text8 Dataset'\n",
    "\n",
    "class DLProgress(tqdm):\n",
    "    last_block = 0\n",
    "\n",
    "    def hook(self, block_num=1, block_size=1, total_size=None):\n",
    "        self.total = total_size\n",
    "        self.update((block_num - self.last_block) * block_size)\n",
    "        self.last_block = block_num\n",
    "\n",
    "if not isfile(dataset_filename):\n",
    "    with DLProgress(unit='B', unit_scale=True, miniters=1, desc=dataset_name) as pbar:\n",
    "        urlretrieve(\n",
    "            'http://mattmahoney.net/dc/text8.zip',\n",
    "            dataset_filename,\n",
    "            pbar.hook)\n",
    "\n",
    "if not isdir(dataset_folder_path):\n",
    "    with zipfile.ZipFile(dataset_filename) as zip_ref:\n",
    "        zip_ref.extractall(dataset_folder_path)\n",
    "        \n",
    "with open('data/text8') as f:\n",
    "    text = f.read()"
   ]
  },
  {
   "cell_type": "markdown",
   "metadata": {},
   "source": [
    "## Preprocessing\n",
    "\n",
    "Here I'm fixing up the text to make training easier. This comes from the `utils` module I wrote. The `preprocess` function coverts any punctuation into tokens, so a period is changed to ` <PERIOD> `. In this data set, there aren't any periods, but it will help in other NLP problems. I'm also removing all words that show up five or fewer times in the dataset. This will greatly reduce issues due to noise in the data and improve the quality of the vector representations. If you want to write your own functions for this stuff, go for it."
   ]
  },
  {
   "cell_type": "code",
   "execution_count": 3,
   "metadata": {},
   "outputs": [
    {
     "name": "stdout",
     "output_type": "stream",
     "text": [
      "['anarchism', 'originated', 'as', 'a', 'term', 'of', 'abuse', 'first', 'used', 'against', 'early', 'working', 'class', 'radicals', 'including', 'the', 'diggers', 'of', 'the', 'english', 'revolution', 'and', 'the', 'sans', 'culottes', 'of', 'the', 'french', 'revolution', 'whilst']\n"
     ]
    }
   ],
   "source": [
    "words = utils.preprocess(text)\n",
    "print(words[:30])"
   ]
  },
  {
   "cell_type": "code",
   "execution_count": 4,
   "metadata": {},
   "outputs": [
    {
     "name": "stdout",
     "output_type": "stream",
     "text": [
      "Total words: 16680599\n",
      "Unique words: 63641\n"
     ]
    }
   ],
   "source": [
    "print(\"Total words: {}\".format(len(words)))\n",
    "print(\"Unique words: {}\".format(len(set(words))))"
   ]
  },
  {
   "cell_type": "markdown",
   "metadata": {},
   "source": [
    "And here I'm creating dictionaries to convert words to integers and backwards, integers to words. The integers are assigned in descending frequency order, so the most frequent word (\"the\") is given the integer 0 and the next most frequent is 1 and so on. The words are converted to integers and stored in the list `int_words`."
   ]
  },
  {
   "cell_type": "code",
   "execution_count": 8,
   "metadata": {},
   "outputs": [
    {
     "data": {
      "text/plain": [
       "[5233, 3080, 11, 5, 194, 1, 3133, 45, 58, 155]"
      ]
     },
     "execution_count": 8,
     "metadata": {},
     "output_type": "execute_result"
    }
   ],
   "source": [
    "vocab_to_int, int_to_vocab = utils.create_lookup_tables(words)\n",
    "int_words = [vocab_to_int[word] for word in words]\n",
    "int_words[0:10]"
   ]
  },
  {
   "cell_type": "markdown",
   "metadata": {},
   "source": [
    "## Subsampling\n",
    "\n",
    "Words that show up often such as \"the\", \"of\", and \"for\" don't provide much context to the nearby words. If we discard some of them, we can remove some of the noise from our data and in return get faster training and better representations. This process is called subsampling by Mikolov. For each word $w_i$ in the training set, we'll discard it with probability given by \n",
    "\n",
    "$$ P(w_i) = 1 - \\sqrt{\\frac{t}{f(w_i)}} $$\n",
    "\n",
    "where $t$ is a threshold parameter and $f(w_i)$ is the frequency of word $w_i$ in the total dataset.\n",
    "\n",
    "I'm going to leave this up to you as an exercise. This is more of a programming challenge, than about deep learning specifically. But, being able to prepare your data for your network is an important skill to have. Check out my solution to see how I did it.\n",
    "\n",
    "> **Exercise:** Implement subsampling for the words in `int_words`. That is, go through `int_words` and discard each word given the probablility $P(w_i)$ shown above. Note that $P(w_i)$ is the probability that a word is discarded. Assign the subsampled data to `train_words`."
   ]
  },
  {
   "cell_type": "code",
   "execution_count": 13,
   "metadata": {
    "collapsed": true
   },
   "outputs": [],
   "source": [
    "## Your code here\n",
    "from collections import Counter \n",
    "import random \n",
    "int_count=Counter(int_words)\n",
    "t=1e-5\n",
    "total=len(int_words)\n",
    "freq={word:count/total for word,count in int_count.items()}\n",
    "P_drop={word:1-np.sqrt(t/freq[word]) for word,count in int_count.items() }\n",
    "\n",
    "\n",
    "\n",
    "train_words =[ int_word for int_word in int_words if random.random()<(1-P_drop[int_word])] \n",
    "# The final subsampled word list"
   ]
  },
  {
   "cell_type": "markdown",
   "metadata": {},
   "source": [
    "## Making batches"
   ]
  },
  {
   "cell_type": "markdown",
   "metadata": {},
   "source": [
    "Now that our data is in good shape, we need to get it into the proper form to pass it into our network. With the skip-gram architecture, for each word in the text, we want to grab all the words in a window around that word, with size $C$. \n",
    "\n",
    "From [Mikolov et al.](https://arxiv.org/pdf/1301.3781.pdf): \n",
    "\n",
    "\"Since the more distant words are usually less related to the current word than those close to it, we give less weight to the distant words by sampling less from those words in our training examples... If we choose $C = 5$, for each training word we will select randomly a number $R$ in range $< 1; C >$, and then use $R$ words from history and $R$ words from the future of the current word as correct labels.\"\n",
    "\n",
    "> **Exercise:** Implement a function `get_target` that receives a list of words, an index, and a window size, then returns a list of words in the window around the index. Make sure to use the algorithm described above, where you choose a random number of words from the window."
   ]
  },
  {
   "cell_type": "code",
   "execution_count": 26,
   "metadata": {
    "collapsed": true
   },
   "outputs": [],
   "source": [
    "def get_target(words, idx, window_size=5):\n",
    "    ''' Get a list of words in a window around an index. '''\n",
    "    R=random.randint(1,window_size+1)\n",
    "    start=idx-R  if idx-R >0 else 0\n",
    "    end=idx+R\n",
    "    \n",
    "    target_word=set(words[start:idx]+words[idx:end+1])\n",
    "    # Your code here\n",
    "    \n",
    "    return target_word"
   ]
  },
  {
   "cell_type": "markdown",
   "metadata": {},
   "source": [
    "Here's a function that returns batches for our network. The idea is that it grabs `batch_size` words from a words list. Then for each of those words, it gets the target words in the window. I haven't found a way to pass in a random number of target words and get it to work with the architecture, so I make one row per input-target pair. This is a generator function by the way, helps save memory."
   ]
  },
  {
   "cell_type": "code",
   "execution_count": 15,
   "metadata": {
    "collapsed": true
   },
   "outputs": [],
   "source": [
    "def get_batches(words, batch_size, window_size=5):\n",
    "    ''' Create a generator of word batches as a tuple (inputs, targets) '''\n",
    "    \n",
    "    n_batches = len(words)//batch_size\n",
    "    \n",
    "    # only full batches\n",
    "    words = words[:n_batches*batch_size]\n",
    "    \n",
    "    for idx in range(0, len(words), batch_size):\n",
    "        x, y = [], []\n",
    "        batch = words[idx:idx+batch_size]\n",
    "        for ii in range(len(batch)):\n",
    "            batch_x = batch[ii]\n",
    "            batch_y = get_target(batch, ii, window_size)\n",
    "            y.extend(batch_y)\n",
    "            x.extend([batch_x]*len(batch_y))\n",
    "        yield x, y\n",
    "    "
   ]
  },
  {
   "cell_type": "markdown",
   "metadata": {},
   "source": [
    "## Building the graph\n",
    "\n",
    "From [Chris McCormick's blog](http://mccormickml.com/2016/04/19/word2vec-tutorial-the-skip-gram-model/), we can see the general structure of our network.\n",
    "![embedding_network](./assets/skip_gram_net_arch.png)\n",
    "\n",
    "The input words are passed in as integers. This will go into a hidden layer of linear units, then into a softmax layer. We'll use the softmax layer to make a prediction like normal.\n",
    "\n",
    "The idea here is to train the hidden layer weight matrix to find efficient representations for our words. We can discard the softmax layer becuase we don't really care about making predictions with this network. We just want the embedding matrix so we can use it in other networks we build from the dataset.\n",
    "\n",
    "I'm going to have you build the graph in stages now. First off, creating the `inputs` and `labels` placeholders like normal.\n",
    "\n",
    "> **Exercise:** Assign `inputs` and `labels` using `tf.placeholder`. We're going to be passing in integers, so set the data types to `tf.int32`. The batches we're passing in will have varying sizes, so set the batch sizes to [`None`]. To make things work later, you'll need to set the second dimension of `labels` to `None` or `1`."
   ]
  },
  {
   "cell_type": "code",
   "execution_count": 16,
   "metadata": {
    "collapsed": true
   },
   "outputs": [],
   "source": [
    "train_graph = tf.Graph()\n",
    "with train_graph.as_default():\n",
    "    inputs = tf.placeholder(tf.int32,[None],name='inputs')\n",
    "    labels = tf.placeholder(tf.int32,[None,None],name='labels')"
   ]
  },
  {
   "cell_type": "markdown",
   "metadata": {},
   "source": [
    "## Embedding\n",
    "\n"
   ]
  },
  {
   "cell_type": "markdown",
   "metadata": {
    "collapsed": true
   },
   "source": [
    "The embedding matrix has a size of the number of words by the number of units in the hidden layer. So, if you have 10,000 words and 300 hidden units, the matrix will have size $10,000 \\times 300$. Remember that we're using tokenized data for our inputs, usually as integers, where the number of tokens is the number of words in our vocabulary.\n",
    "\n",
    "\n",
    "> **Exercise:** Tensorflow provides a convenient function [`tf.nn.embedding_lookup`](https://www.tensorflow.org/api_docs/python/tf/nn/embedding_lookup) that does this lookup for us. You pass in the embedding matrix and a tensor of integers, then it returns rows in the matrix corresponding to those integers. Below, set the number of embedding features you'll use (200 is a good start), create the embedding matrix variable, and use `tf.nn.embedding_lookup` to get the embedding tensors. For the embedding matrix, I suggest you initialize it with a uniform random numbers between -1 and 1 using [tf.random_uniform](https://www.tensorflow.org/api_docs/python/tf/random_uniform)."
   ]
  },
  {
   "cell_type": "code",
   "execution_count": 20,
   "metadata": {},
   "outputs": [],
   "source": [
    "n_vocab = len(int_to_vocab)\n",
    "n_embedding =200  # Number of embedding features \n",
    "with train_graph.as_default():\n",
    "    embedding = tf.Variable(tf.random_uniform((n_vocab, n_embedding), -1, 1))\n",
    "    embed = tf.nn.embedding_lookup(embedding, inputs)"
   ]
  },
  {
   "cell_type": "markdown",
   "metadata": {},
   "source": [
    "## Negative sampling\n",
    "\n"
   ]
  },
  {
   "cell_type": "markdown",
   "metadata": {},
   "source": [
    "For every example we give the network, we train it using the output from the softmax layer. That means for each input, we're making very small changes to millions of weights even though we only have one true example. This makes training the network very inefficient. We can approximate the loss from the softmax layer by only updating a small subset of all the weights at once. We'll update the weights for the correct label, but only a small number of incorrect labels. This is called [\"negative sampling\"](http://papers.nips.cc/paper/5021-distributed-representations-of-words-and-phrases-and-their-compositionality.pdf). Tensorflow has a convenient function to do this, [`tf.nn.sampled_softmax_loss`](https://www.tensorflow.org/api_docs/python/tf/nn/sampled_softmax_loss).\n",
    "\n",
    "> **Exercise:** Below, create weights and biases for the softmax layer. Then, use [`tf.nn.sampled_softmax_loss`](https://www.tensorflow.org/api_docs/python/tf/nn/sampled_softmax_loss) to calculate the loss. Be sure to read the documentation to figure out how it works."
   ]
  },
  {
   "cell_type": "code",
   "execution_count": 22,
   "metadata": {},
   "outputs": [
    {
     "name": "stdout",
     "output_type": "stream",
     "text": [
      "WARNING:tensorflow:From /mnt/407242D87242D1F8/anaconda3/lib/python3.6/site-packages/tensorflow/python/ops/nn_impl.py:1444: sparse_to_dense (from tensorflow.python.ops.sparse_ops) is deprecated and will be removed in a future version.\n",
      "Instructions for updating:\n",
      "Create a `tf.sparse.SparseTensor` and use `tf.sparse.to_dense` instead.\n",
      "WARNING:tensorflow:From /mnt/407242D87242D1F8/anaconda3/lib/python3.6/site-packages/tensorflow/python/ops/array_grad.py:425: to_int32 (from tensorflow.python.ops.math_ops) is deprecated and will be removed in a future version.\n",
      "Instructions for updating:\n",
      "Use tf.cast instead.\n"
     ]
    }
   ],
   "source": [
    "# Number of negative labels to sample\n",
    "n_sampled = 100\n",
    "with train_graph.as_default():\n",
    "    softmax_w = tf.Variable(tf.truncated_normal((n_vocab,n_embedding ), stddev=0.1))\n",
    "    softmax_b = tf.Variable(tf.zeros(n_vocab))\n",
    "    \n",
    "    # Calculate the loss using negative sampling\n",
    "    loss = tf.nn.sampled_softmax_loss(softmax_w, softmax_b, \n",
    "                                      labels, embed,\n",
    "                                      n_sampled, n_vocab)\n",
    "    \n",
    "    cost = tf.reduce_mean(loss)\n",
    "    optimizer = tf.train.AdamOptimizer().minimize(cost)"
   ]
  },
  {
   "cell_type": "markdown",
   "metadata": {},
   "source": [
    "## Validation\n",
    "\n",
    "This code is from Thushan Ganegedara's implementation. Here we're going to choose a few common words and few uncommon words. Then, we'll print out the closest words to them. It's a nice way to check that our embedding table is grouping together words with similar semantic meanings."
   ]
  },
  {
   "cell_type": "code",
   "execution_count": 23,
   "metadata": {},
   "outputs": [
    {
     "name": "stdout",
     "output_type": "stream",
     "text": [
      "WARNING:tensorflow:From <ipython-input-23-0edb403d10d5>:13: calling reduce_sum_v1 (from tensorflow.python.ops.math_ops) with keep_dims is deprecated and will be removed in a future version.\n",
      "Instructions for updating:\n",
      "keep_dims is deprecated, use keepdims instead\n"
     ]
    }
   ],
   "source": [
    "with train_graph.as_default():\n",
    "    ## From Thushan Ganegedara's implementation\n",
    "    valid_size = 16 # Random set of words to evaluate similarity on.\n",
    "    valid_window = 100\n",
    "    # pick 8 samples from (0,100) and (1000,1100) each ranges. lower id implies more frequent \n",
    "    valid_examples = np.array(random.sample(range(valid_window), valid_size//2))\n",
    "    valid_examples = np.append(valid_examples, \n",
    "                               random.sample(range(1000,1000+valid_window), valid_size//2))\n",
    "\n",
    "    valid_dataset = tf.constant(valid_examples, dtype=tf.int32)\n",
    "    \n",
    "    # We use the cosine distance:\n",
    "    norm = tf.sqrt(tf.reduce_sum(tf.square(embedding), 1, keep_dims=True))\n",
    "    normalized_embedding = embedding / norm\n",
    "    valid_embedding = tf.nn.embedding_lookup(normalized_embedding, valid_dataset)\n",
    "    similarity = tf.matmul(valid_embedding, tf.transpose(normalized_embedding))"
   ]
  },
  {
   "cell_type": "code",
   "execution_count": 24,
   "metadata": {
    "collapsed": true
   },
   "outputs": [],
   "source": [
    "# If the checkpoints directory doesn't exist:\n",
    "!mkdir checkpoints"
   ]
  },
  {
   "cell_type": "markdown",
   "metadata": {},
   "source": [
    "## Training\n",
    "\n",
    "Below is the code to train the network. Every 100 batches it reports the training loss. Every 1000 batches, it'll print out the validation words."
   ]
  },
  {
   "cell_type": "code",
   "execution_count": 27,
   "metadata": {},
   "outputs": [
    {
     "name": "stdout",
     "output_type": "stream",
     "text": [
      "Epoch 1/10 Iteration: 100 Avg. Training loss: 5.6345 0.3955 sec/batch\n",
      "Epoch 1/10 Iteration: 200 Avg. Training loss: 5.5606 0.3484 sec/batch\n",
      "Epoch 1/10 Iteration: 300 Avg. Training loss: 5.3927 0.3178 sec/batch\n",
      "Epoch 1/10 Iteration: 400 Avg. Training loss: 5.4179 0.2967 sec/batch\n",
      "Epoch 1/10 Iteration: 500 Avg. Training loss: 5.3403 0.3004 sec/batch\n",
      "Epoch 1/10 Iteration: 600 Avg. Training loss: 5.3193 0.3730 sec/batch\n",
      "Epoch 1/10 Iteration: 700 Avg. Training loss: 5.2903 0.3646 sec/batch\n",
      "Epoch 1/10 Iteration: 800 Avg. Training loss: 5.2841 0.3744 sec/batch\n",
      "Epoch 1/10 Iteration: 900 Avg. Training loss: 5.1659 0.3643 sec/batch\n",
      "Epoch 1/10 Iteration: 1000 Avg. Training loss: 5.1425 0.3623 sec/batch\n",
      "Nearest to with: joaqu, kills, and, municipalities, triskelion, college, smallest, ouagadougou,\n",
      "Nearest to all: congratulated, vicars, wilfrid, az, infidels, burst, osteoporosis, kristeva,\n",
      "Nearest to has: seine, resolved, thalweg, amara, watchmaker, julmust, clc, meant,\n",
      "Nearest to as: csrt, legacy, steel, schule, niccol, rousing, tempering, divergent,\n",
      "Nearest to three: coinages, belgique, delany, solanaceae, dallwitz, fact, bleue, kuti,\n",
      "Nearest to about: heirs, fantasy, bookstores, brushed, kalinga, lozada, stressed, purgatory,\n",
      "Nearest to states: embittered, alphabets, microsystems, cabbie, clicking, kaye, inundation, rawalpindi,\n",
      "Nearest to they: harlow, if, crowning, kfor, headdress, frawley, ethnologists, semipalatinsk,\n",
      "Nearest to woman: targets, spark, gymnosperms, ning, joh, ruse, bargello, cia,\n",
      "Nearest to additional: exhorts, phonics, mcmartin, eapc, ladder, peppered, kobayashi, months,\n",
      "Nearest to versions: furlong, ramifications, vitis, coins, ktv, restatement, heritage, poetics,\n",
      "Nearest to instance: talon, cube, librarians, abolition, vapours, appliances, newspapers, beria,\n",
      "Nearest to institute: iles, holt, roommate, yankee, witchcraft, discos, preuss, numerological,\n",
      "Nearest to ocean: misskelley, bestowing, noncommercial, outliers, donizetti, bianca, straight, azcona,\n",
      "Nearest to event: railway, illustrates, been, ahaziah, usurped, fets, bronson, herstal,\n",
      "Nearest to applied: sprouse, tutsi, factors, mjh, cinco, dfts, montrealers, rehabilitate,\n",
      "Epoch 1/10 Iteration: 1100 Avg. Training loss: 5.1414 0.3650 sec/batch\n",
      "Epoch 1/10 Iteration: 1200 Avg. Training loss: 5.0510 0.3617 sec/batch\n",
      "Epoch 1/10 Iteration: 1300 Avg. Training loss: 5.0379 0.3609 sec/batch\n",
      "Epoch 1/10 Iteration: 1400 Avg. Training loss: 4.9462 0.3632 sec/batch\n",
      "Epoch 1/10 Iteration: 1500 Avg. Training loss: 4.8656 0.3634 sec/batch\n",
      "Epoch 1/10 Iteration: 1600 Avg. Training loss: 4.8741 0.3630 sec/batch\n",
      "Epoch 1/10 Iteration: 1700 Avg. Training loss: 4.8265 0.3648 sec/batch\n",
      "Epoch 1/10 Iteration: 1800 Avg. Training loss: 4.7601 0.4189 sec/batch\n",
      "Epoch 1/10 Iteration: 1900 Avg. Training loss: 4.7356 0.3661 sec/batch\n",
      "Epoch 1/10 Iteration: 2000 Avg. Training loss: 4.7104 0.3864 sec/batch\n",
      "Nearest to with: joaqu, kills, college, mathematician, and, ntsc, comics, smallest,\n",
      "Nearest to all: taught, burst, congratulated, had, about, causing, modified, unit,\n",
      "Nearest to has: far, resolved, meant, seine, industrial, thalweg, amara, clc,\n",
      "Nearest to as: legacy, steel, divergent, conventions, creating, frequency, csrt, synonymous,\n",
      "Nearest to three: fact, june, behaviour, coinages, belgique, heliports, bleue, donnie,\n",
      "Nearest to about: heirs, fantasy, identifying, stressed, populist, all, kalinga, brushed,\n",
      "Nearest to states: embittered, kaye, microsystems, estimate, alphabets, dominated, clicking, cabbie,\n",
      "Nearest to they: if, crowning, harlow, headdress, impressive, frawley, kfor, boast,\n",
      "Nearest to woman: targets, spark, ning, ruse, bargello, recalling, cia, function,\n",
      "Nearest to additional: exhorts, phonics, months, mcmartin, ladder, reason, small, eapc,\n",
      "Nearest to versions: ramifications, ktv, heritage, fulness, printer, blockade, coins, restatement,\n",
      "Nearest to instance: each, appliances, newspapers, government, abolition, librarians, vapours, talon,\n",
      "Nearest to institute: iles, holt, roommate, witchcraft, yankee, wanton, jersey, type,\n",
      "Nearest to ocean: misskelley, straight, bestowing, donizetti, noncommercial, st, outliers, bianca,\n",
      "Nearest to event: been, railway, illustrates, vanes, dismissed, inaccurate, voyager, bronson,\n",
      "Nearest to applied: factors, sprouse, tutsi, significantly, rehabilitate, dfts, comes, cinco,\n",
      "Epoch 1/10 Iteration: 2100 Avg. Training loss: 4.6547 0.3337 sec/batch\n",
      "Epoch 1/10 Iteration: 2200 Avg. Training loss: 4.6482 0.2987 sec/batch\n",
      "Epoch 1/10 Iteration: 2300 Avg. Training loss: 4.6175 0.2981 sec/batch\n",
      "Epoch 1/10 Iteration: 2400 Avg. Training loss: 4.5933 0.3013 sec/batch\n",
      "Epoch 1/10 Iteration: 2500 Avg. Training loss: 4.5593 0.2976 sec/batch\n",
      "Epoch 1/10 Iteration: 2600 Avg. Training loss: 4.5285 0.2987 sec/batch\n",
      "Epoch 1/10 Iteration: 2700 Avg. Training loss: 4.5438 0.2985 sec/batch\n",
      "Epoch 1/10 Iteration: 2800 Avg. Training loss: 4.5461 0.2989 sec/batch\n",
      "Epoch 1/10 Iteration: 2900 Avg. Training loss: 4.5152 0.2986 sec/batch\n",
      "Epoch 1/10 Iteration: 3000 Avg. Training loss: 4.4984 0.2992 sec/batch\n",
      "Nearest to with: scales, joaqu, mathematician, kills, municipalities, ntsc, neighbors, college,\n",
      "Nearest to all: congratulated, burst, anathema, taught, weapons, sacrifices, refinements, unused,\n",
      "Nearest to has: resolved, seine, thalweg, far, meant, admissible, industrial, prostitutes,\n",
      "Nearest to as: legacy, divergent, steel, frequency, similarity, csrt, wherein, meal,\n",
      "Nearest to three: heliports, june, belgique, coinages, donnie, dallwitz, bleue, minimax,\n",
      "Nearest to about: heirs, identifying, fantasy, stressed, purgatory, brushed, walker, indies,\n",
      "Nearest to states: embittered, kaye, cabbie, alphabets, las, estimate, microsystems, intervening,\n",
      "Nearest to they: if, kfor, crowning, harlow, impressive, prohibits, accompanying, boast,\n",
      "Nearest to woman: spark, targets, recalling, ning, ruse, gymnosperms, bargello, joh,\n",
      "Nearest to additional: exhorts, phonics, months, mcmartin, ladder, eapc, facets, peppered,\n",
      "Nearest to versions: ramifications, fulness, ktv, printer, heritage, blockade, furlong, king,\n",
      "Nearest to instance: cube, each, appliances, vapours, ase, abolition, talon, violated,\n",
      "Nearest to institute: iles, holt, roommate, witchcraft, adopts, yankee, wanton, jersey,\n",
      "Nearest to ocean: misskelley, bestowing, straight, noncommercial, donizetti, st, centre, bianca,\n",
      "Nearest to event: illustrates, railway, been, vanes, inaccurate, dismissed, bronson, voyager,\n",
      "Nearest to applied: factors, sprouse, tutsi, mjh, montrealers, rehabilitate, recommend, cinco,\n",
      "Epoch 1/10 Iteration: 3100 Avg. Training loss: 4.5159 0.2997 sec/batch\n",
      "Epoch 1/10 Iteration: 3200 Avg. Training loss: 4.4816 0.2990 sec/batch\n",
      "Epoch 1/10 Iteration: 3300 Avg. Training loss: 4.4374 0.2983 sec/batch\n",
      "Epoch 1/10 Iteration: 3400 Avg. Training loss: 4.4319 0.2975 sec/batch\n",
      "Epoch 1/10 Iteration: 3500 Avg. Training loss: 4.5004 0.3003 sec/batch\n",
      "Epoch 1/10 Iteration: 3600 Avg. Training loss: 4.4357 0.2999 sec/batch\n",
      "Epoch 1/10 Iteration: 3700 Avg. Training loss: 4.4593 0.2988 sec/batch\n",
      "Epoch 1/10 Iteration: 3800 Avg. Training loss: 4.4827 0.2982 sec/batch\n",
      "Epoch 1/10 Iteration: 3900 Avg. Training loss: 4.4207 0.3055 sec/batch\n",
      "Epoch 1/10 Iteration: 4000 Avg. Training loss: 4.4315 0.2990 sec/batch\n",
      "Nearest to with: scales, municipalities, ntsc, joaqu, kills, neighbors, compelling, merle,\n",
      "Nearest to all: congratulated, burst, pcr, retailing, anathema, wilfrid, sacrifices, petitions,\n",
      "Nearest to has: resolved, thalweg, seine, admissible, blackout, julmust, far, meant,\n",
      "Nearest to as: legacy, cradle, divergent, drilling, rousing, dvds, csrt, robbins,\n",
      "Nearest to three: heliports, june, dallwitz, belgique, minimax, literacy, donnie, populaire,\n",
      "Nearest to about: heirs, identifying, bookstores, purgatory, kalinga, fantasy, stressed, walker,\n",
      "Nearest to states: kaye, embittered, rawalpindi, united, las, cabbie, estimate, stefan,\n",
      "Nearest to they: if, kfor, prohibits, crowning, impressive, categorize, destabilized, boast,\n",
      "Nearest to woman: spark, recalling, gymnosperms, targets, joh, ruse, bargello, hinterlands,\n",
      "Nearest to additional: exhorts, phonics, months, mcmartin, ladder, eapc, facets, peppered,\n",
      "Nearest to versions: oilers, fulness, printer, ramifications, blockade, ktv, furlong, heritage,\n",
      "Nearest to instance: ase, each, appliances, cube, violated, vapours, talon, jps,\n",
      "Nearest to institute: iles, roommate, holt, witchcraft, adopts, troughs, wanton, numerological,\n",
      "Nearest to ocean: misskelley, noncommercial, bianca, bestowing, donizetti, bivalent, centre, st,\n",
      "Nearest to event: illustrates, railway, vanes, dismissed, usurped, voyager, been, bronson,\n",
      "Nearest to applied: factors, tutsi, mjh, sprouse, theoretic, rehabilitate, recommend, joannes,\n"
     ]
    },
    {
     "name": "stdout",
     "output_type": "stream",
     "text": [
      "Epoch 1/10 Iteration: 4100 Avg. Training loss: 4.4014 0.2977 sec/batch\n",
      "Epoch 1/10 Iteration: 4200 Avg. Training loss: 4.4029 0.2987 sec/batch\n",
      "Epoch 1/10 Iteration: 4300 Avg. Training loss: 4.3722 0.2982 sec/batch\n",
      "Epoch 1/10 Iteration: 4400 Avg. Training loss: 4.3715 0.2991 sec/batch\n",
      "Epoch 1/10 Iteration: 4500 Avg. Training loss: 4.3717 0.2975 sec/batch\n",
      "Epoch 1/10 Iteration: 4600 Avg. Training loss: 4.3746 0.2981 sec/batch\n",
      "Epoch 2/10 Iteration: 4700 Avg. Training loss: 4.3423 0.2138 sec/batch\n",
      "Epoch 2/10 Iteration: 4800 Avg. Training loss: 4.2965 0.3142 sec/batch\n",
      "Epoch 2/10 Iteration: 4900 Avg. Training loss: 4.2803 0.4545 sec/batch\n",
      "Epoch 2/10 Iteration: 5000 Avg. Training loss: 4.2518 0.4695 sec/batch\n",
      "Nearest to with: scales, ntsc, xyz, neighbors, merle, compelling, fearful, smallest,\n",
      "Nearest to all: congratulated, burst, pcr, retailing, vicars, uv, anathema, petitions,\n",
      "Nearest to has: resolved, thalweg, admissible, seine, blackout, julmust, far, rims,\n",
      "Nearest to as: legacy, riaa, divergent, dvds, drilling, rousing, robbins, csrt,\n",
      "Nearest to three: heliports, june, dallwitz, minimax, luis, two, populaire, belgique,\n",
      "Nearest to about: heirs, purgatory, bookstores, identifying, kalinga, walker, indies, salting,\n",
      "Nearest to states: united, kaye, embittered, rawalpindi, briefs, cabbie, las, industrialist,\n",
      "Nearest to they: kfor, if, prohibits, impressive, destabilized, osamu, carmine, recoil,\n",
      "Nearest to woman: spark, gymnosperms, bargello, joh, norouz, hinterlands, coo, recalling,\n",
      "Nearest to additional: exhorts, phonics, eapc, morse, delayed, savoury, months, mcmartin,\n",
      "Nearest to versions: oilers, printer, fulness, prohibitively, ktv, incompleteness, furlong, ramifications,\n",
      "Nearest to instance: ase, each, cube, jps, talon, appliances, violated, vapours,\n",
      "Nearest to institute: iles, roommate, troughs, holt, witchcraft, wanton, henryk, rent,\n",
      "Nearest to ocean: misskelley, noncommercial, centre, ailey, bivalent, climatic, regents, tectonic,\n",
      "Nearest to event: illustrates, vanes, herstal, railway, usurped, almond, bronson, ahaziah,\n",
      "Nearest to applied: mjh, factors, theoretic, tutsi, sprouse, joannes, nonspecific, recommend,\n",
      "Epoch 2/10 Iteration: 5100 Avg. Training loss: 4.2712 0.4684 sec/batch\n",
      "Epoch 2/10 Iteration: 5200 Avg. Training loss: 4.2307 0.4711 sec/batch\n",
      "Epoch 2/10 Iteration: 5300 Avg. Training loss: 4.2035 0.4968 sec/batch\n",
      "Epoch 2/10 Iteration: 5400 Avg. Training loss: 4.2730 0.4967 sec/batch\n",
      "Epoch 2/10 Iteration: 5500 Avg. Training loss: 4.2538 0.4872 sec/batch\n",
      "Epoch 2/10 Iteration: 5600 Avg. Training loss: 4.2383 0.4931 sec/batch\n",
      "Epoch 2/10 Iteration: 5700 Avg. Training loss: 4.2052 0.4998 sec/batch\n",
      "Epoch 2/10 Iteration: 5800 Avg. Training loss: 4.1371 0.5018 sec/batch\n",
      "Epoch 2/10 Iteration: 5900 Avg. Training loss: 4.1910 0.5021 sec/batch\n",
      "Epoch 2/10 Iteration: 6000 Avg. Training loss: 4.1853 0.4717 sec/batch\n",
      "Nearest to with: scales, ntsc, smallest, compelling, neighbors, xyz, attempting, sotho,\n",
      "Nearest to all: congratulated, anathema, pcr, vicars, burst, superficial, retailing, abrogated,\n",
      "Nearest to has: resolved, admissible, blackout, thalweg, seine, julmust, far, rims,\n",
      "Nearest to as: legacy, wherein, riaa, drilling, dvds, csrt, robbins, upc,\n",
      "Nearest to three: heliports, dallwitz, june, minimax, two, solanaceae, llc, populaire,\n",
      "Nearest to about: heirs, bookstores, purgatory, exclusivity, kalinga, identifying, brushed, concentrated,\n",
      "Nearest to states: united, rawalpindi, embittered, kaye, briefs, cabbie, intervening, shares,\n",
      "Nearest to they: kfor, prohibits, if, impressive, goodwill, destabilized, osamu, carmine,\n",
      "Nearest to woman: spark, gymnosperms, bargello, norouz, hinterlands, joh, coo, recalling,\n",
      "Nearest to additional: exhorts, phonics, delayed, eapc, savoury, morse, peppered, preventive,\n",
      "Nearest to versions: oilers, printer, prohibitively, incompleteness, ktv, fulness, fig, poetics,\n",
      "Nearest to instance: each, ase, cube, jps, appliances, talon, violated, vapours,\n",
      "Nearest to institute: iles, roommate, troughs, holt, henryk, wanton, witchcraft, sculptors,\n",
      "Nearest to ocean: misskelley, noncommercial, southwest, climatic, centre, ailey, southernmost, tectonic,\n",
      "Nearest to event: illustrates, vanes, herstal, ahaziah, bronson, usurped, almond, pass,\n",
      "Nearest to applied: theoretic, factors, mjh, recommend, elongation, tutsi, worry, nonspecific,\n",
      "Epoch 2/10 Iteration: 6100 Avg. Training loss: 4.1783 0.3852 sec/batch\n",
      "Epoch 2/10 Iteration: 6200 Avg. Training loss: 4.1674 0.3317 sec/batch\n",
      "Epoch 2/10 Iteration: 6300 Avg. Training loss: 4.1764 0.3501 sec/batch\n",
      "Epoch 2/10 Iteration: 6400 Avg. Training loss: 4.1583 0.3331 sec/batch\n",
      "Epoch 2/10 Iteration: 6500 Avg. Training loss: 4.1668 0.2985 sec/batch\n",
      "Epoch 2/10 Iteration: 6600 Avg. Training loss: 4.1927 0.2990 sec/batch\n",
      "Epoch 2/10 Iteration: 6700 Avg. Training loss: 4.1401 0.2992 sec/batch\n",
      "Epoch 2/10 Iteration: 6800 Avg. Training loss: 4.1459 0.2996 sec/batch\n",
      "Epoch 2/10 Iteration: 6900 Avg. Training loss: 4.1528 0.2991 sec/batch\n",
      "Epoch 2/10 Iteration: 7000 Avg. Training loss: 4.1122 0.2997 sec/batch\n",
      "Nearest to with: scales, xyz, compelling, ntsc, smallest, paste, sotho, neighbors,\n",
      "Nearest to all: congratulated, pcr, anathema, superficial, vicars, conceptions, petitions, burst,\n",
      "Nearest to has: resolved, admissible, seine, julmust, blackout, thalweg, ragnarok, rims,\n",
      "Nearest to as: legacy, drilling, dvds, wherein, tempering, divergent, csrt, rousing,\n",
      "Nearest to three: heliports, dallwitz, two, june, minimax, solanaceae, llc, four,\n",
      "Nearest to about: heirs, bookstores, waterhouse, exclusivity, salting, beaverbrook, purgatory, nonphysical,\n",
      "Nearest to states: united, embittered, kaye, rawalpindi, briefs, shares, stefan, anchorite,\n",
      "Nearest to they: prohibits, kfor, impressive, recoil, if, prey, osamu, carmine,\n",
      "Nearest to woman: spark, gymnosperms, norouz, harvey, recalling, ruse, lust, girlfriend,\n",
      "Nearest to additional: phonics, exhorts, delayed, eapc, savoury, screen, preventive, mcmartin,\n",
      "Nearest to versions: printer, oilers, prohibitively, fulness, ktv, incompleteness, fig, streamed,\n",
      "Nearest to instance: each, ase, cube, jps, violated, appliances, orbitals, vapours,\n",
      "Nearest to institute: iles, roommate, holt, troughs, henryk, hamilcar, sculptors, wanton,\n",
      "Nearest to ocean: southwest, tectonic, misskelley, climatic, newfoundland, ailey, noncommercial, northern,\n",
      "Nearest to event: illustrates, vanes, herstal, ahaziah, zygote, pass, bronson, almond,\n",
      "Nearest to applied: theoretic, factors, mjh, recommend, arches, nonspecific, joannes, elongation,\n",
      "Epoch 2/10 Iteration: 7100 Avg. Training loss: 4.1406 0.2998 sec/batch\n",
      "Epoch 2/10 Iteration: 7200 Avg. Training loss: 4.1349 0.3002 sec/batch\n",
      "Epoch 2/10 Iteration: 7300 Avg. Training loss: 4.0691 0.2992 sec/batch\n",
      "Epoch 2/10 Iteration: 7400 Avg. Training loss: 4.1324 0.2986 sec/batch\n",
      "Epoch 2/10 Iteration: 7500 Avg. Training loss: 4.1652 0.2996 sec/batch\n",
      "Epoch 2/10 Iteration: 7600 Avg. Training loss: 4.1460 0.3013 sec/batch\n",
      "Epoch 2/10 Iteration: 7700 Avg. Training loss: 4.1386 0.2993 sec/batch\n",
      "Epoch 2/10 Iteration: 7800 Avg. Training loss: 4.1363 0.2992 sec/batch\n",
      "Epoch 2/10 Iteration: 7900 Avg. Training loss: 4.0611 0.2993 sec/batch\n",
      "Epoch 2/10 Iteration: 8000 Avg. Training loss: 4.0808 0.2995 sec/batch\n",
      "Nearest to with: scales, smallest, bereft, neighbors, xyz, surgically, paste, compelling,\n",
      "Nearest to all: congratulated, vicars, petitions, anathema, superficial, sacrifices, pcr, conceptions,\n",
      "Nearest to has: resolved, admissible, seine, julmust, thalweg, blackout, wail, ragnarok,\n",
      "Nearest to as: legacy, dvds, wherein, csrt, upc, divergent, drilling, tempering,\n",
      "Nearest to three: heliports, two, dallwitz, june, minimax, four, solanaceae, bleue,\n",
      "Nearest to about: heirs, waterhouse, exclusivity, bookstores, salting, beaverbrook, nonphysical, purgatory,\n",
      "Nearest to states: united, rawalpindi, embittered, kaye, briefs, stefan, department, africaine,\n",
      "Nearest to they: kfor, prohibits, prey, impressive, transcriptase, if, osamu, recoil,\n",
      "Nearest to woman: spark, gymnosperms, recalling, norouz, lust, nineteen, joh, correspondent,\n",
      "Nearest to additional: phonics, eapc, exhorts, delayed, preventive, mcmartin, tiled, airline,\n",
      "Nearest to versions: printer, oilers, prohibitively, fulness, ktv, incompleteness, poetics, furlong,\n",
      "Nearest to instance: cube, each, violated, jps, ase, musschenbroek, trigrams, trigonometric,\n",
      "Nearest to institute: iles, roommate, troughs, henryk, holt, sculptors, hamilcar, wanton,\n",
      "Nearest to ocean: tectonic, southwest, southernmost, newfoundland, climatic, misskelley, ailey, noncommercial,\n",
      "Nearest to event: illustrates, vanes, herstal, ahaziah, zygote, pass, bronson, usurped,\n",
      "Nearest to applied: mjh, theoretic, factors, nonspecific, arches, joannes, sprouse, recommend,\n"
     ]
    },
    {
     "name": "stdout",
     "output_type": "stream",
     "text": [
      "Epoch 2/10 Iteration: 8100 Avg. Training loss: 4.0860 0.3010 sec/batch\n",
      "Epoch 2/10 Iteration: 8200 Avg. Training loss: 4.0282 0.3007 sec/batch\n",
      "Epoch 2/10 Iteration: 8300 Avg. Training loss: 4.1297 0.3000 sec/batch\n",
      "Epoch 2/10 Iteration: 8400 Avg. Training loss: 4.1678 0.3002 sec/batch\n",
      "Epoch 2/10 Iteration: 8500 Avg. Training loss: 4.1178 0.2982 sec/batch\n",
      "Epoch 2/10 Iteration: 8600 Avg. Training loss: 4.0325 0.2990 sec/batch\n",
      "Epoch 2/10 Iteration: 8700 Avg. Training loss: 4.0593 0.2976 sec/batch\n",
      "Epoch 2/10 Iteration: 8800 Avg. Training loss: 4.0680 0.2991 sec/batch\n"
     ]
    },
    {
     "ename": "KeyboardInterrupt",
     "evalue": "",
     "output_type": "error",
     "traceback": [
      "\u001b[0;31m---------------------------------------------------------------------------\u001b[0m",
      "\u001b[0;31mKeyboardInterrupt\u001b[0m                         Traceback (most recent call last)",
      "\u001b[0;32m<ipython-input-27-b1d3869cd0d6>\u001b[0m in \u001b[0;36m<module>\u001b[0;34m()\u001b[0m\n\u001b[1;32m     18\u001b[0m             feed = {inputs: x,\n\u001b[1;32m     19\u001b[0m                     labels: np.array(y)[:, None]}\n\u001b[0;32m---> 20\u001b[0;31m             \u001b[0mtrain_loss\u001b[0m\u001b[0;34m,\u001b[0m \u001b[0m_\u001b[0m \u001b[0;34m=\u001b[0m \u001b[0msess\u001b[0m\u001b[0;34m.\u001b[0m\u001b[0mrun\u001b[0m\u001b[0;34m(\u001b[0m\u001b[0;34m[\u001b[0m\u001b[0mcost\u001b[0m\u001b[0;34m,\u001b[0m \u001b[0moptimizer\u001b[0m\u001b[0;34m]\u001b[0m\u001b[0;34m,\u001b[0m \u001b[0mfeed_dict\u001b[0m\u001b[0;34m=\u001b[0m\u001b[0mfeed\u001b[0m\u001b[0;34m)\u001b[0m\u001b[0;34m\u001b[0m\u001b[0;34m\u001b[0m\u001b[0m\n\u001b[0m\u001b[1;32m     21\u001b[0m \u001b[0;34m\u001b[0m\u001b[0m\n\u001b[1;32m     22\u001b[0m             \u001b[0mloss\u001b[0m \u001b[0;34m+=\u001b[0m \u001b[0mtrain_loss\u001b[0m\u001b[0;34m\u001b[0m\u001b[0;34m\u001b[0m\u001b[0m\n",
      "\u001b[0;32m/mnt/407242D87242D1F8/anaconda3/lib/python3.6/site-packages/tensorflow/python/client/session.py\u001b[0m in \u001b[0;36mrun\u001b[0;34m(self, fetches, feed_dict, options, run_metadata)\u001b[0m\n\u001b[1;32m    927\u001b[0m     \u001b[0;32mtry\u001b[0m\u001b[0;34m:\u001b[0m\u001b[0;34m\u001b[0m\u001b[0;34m\u001b[0m\u001b[0m\n\u001b[1;32m    928\u001b[0m       result = self._run(None, fetches, feed_dict, options_ptr,\n\u001b[0;32m--> 929\u001b[0;31m                          run_metadata_ptr)\n\u001b[0m\u001b[1;32m    930\u001b[0m       \u001b[0;32mif\u001b[0m \u001b[0mrun_metadata\u001b[0m\u001b[0;34m:\u001b[0m\u001b[0;34m\u001b[0m\u001b[0;34m\u001b[0m\u001b[0m\n\u001b[1;32m    931\u001b[0m         \u001b[0mproto_data\u001b[0m \u001b[0;34m=\u001b[0m \u001b[0mtf_session\u001b[0m\u001b[0;34m.\u001b[0m\u001b[0mTF_GetBuffer\u001b[0m\u001b[0;34m(\u001b[0m\u001b[0mrun_metadata_ptr\u001b[0m\u001b[0;34m)\u001b[0m\u001b[0;34m\u001b[0m\u001b[0;34m\u001b[0m\u001b[0m\n",
      "\u001b[0;32m/mnt/407242D87242D1F8/anaconda3/lib/python3.6/site-packages/tensorflow/python/client/session.py\u001b[0m in \u001b[0;36m_run\u001b[0;34m(self, handle, fetches, feed_dict, options, run_metadata)\u001b[0m\n\u001b[1;32m   1150\u001b[0m     \u001b[0;32mif\u001b[0m \u001b[0mfinal_fetches\u001b[0m \u001b[0;32mor\u001b[0m \u001b[0mfinal_targets\u001b[0m \u001b[0;32mor\u001b[0m \u001b[0;34m(\u001b[0m\u001b[0mhandle\u001b[0m \u001b[0;32mand\u001b[0m \u001b[0mfeed_dict_tensor\u001b[0m\u001b[0;34m)\u001b[0m\u001b[0;34m:\u001b[0m\u001b[0;34m\u001b[0m\u001b[0;34m\u001b[0m\u001b[0m\n\u001b[1;32m   1151\u001b[0m       results = self._do_run(handle, final_targets, final_fetches,\n\u001b[0;32m-> 1152\u001b[0;31m                              feed_dict_tensor, options, run_metadata)\n\u001b[0m\u001b[1;32m   1153\u001b[0m     \u001b[0;32melse\u001b[0m\u001b[0;34m:\u001b[0m\u001b[0;34m\u001b[0m\u001b[0;34m\u001b[0m\u001b[0m\n\u001b[1;32m   1154\u001b[0m       \u001b[0mresults\u001b[0m \u001b[0;34m=\u001b[0m \u001b[0;34m[\u001b[0m\u001b[0;34m]\u001b[0m\u001b[0;34m\u001b[0m\u001b[0;34m\u001b[0m\u001b[0m\n",
      "\u001b[0;32m/mnt/407242D87242D1F8/anaconda3/lib/python3.6/site-packages/tensorflow/python/client/session.py\u001b[0m in \u001b[0;36m_do_run\u001b[0;34m(self, handle, target_list, fetch_list, feed_dict, options, run_metadata)\u001b[0m\n\u001b[1;32m   1326\u001b[0m     \u001b[0;32mif\u001b[0m \u001b[0mhandle\u001b[0m \u001b[0;32mis\u001b[0m \u001b[0;32mNone\u001b[0m\u001b[0;34m:\u001b[0m\u001b[0;34m\u001b[0m\u001b[0;34m\u001b[0m\u001b[0m\n\u001b[1;32m   1327\u001b[0m       return self._do_call(_run_fn, feeds, fetches, targets, options,\n\u001b[0;32m-> 1328\u001b[0;31m                            run_metadata)\n\u001b[0m\u001b[1;32m   1329\u001b[0m     \u001b[0;32melse\u001b[0m\u001b[0;34m:\u001b[0m\u001b[0;34m\u001b[0m\u001b[0;34m\u001b[0m\u001b[0m\n\u001b[1;32m   1330\u001b[0m       \u001b[0;32mreturn\u001b[0m \u001b[0mself\u001b[0m\u001b[0;34m.\u001b[0m\u001b[0m_do_call\u001b[0m\u001b[0;34m(\u001b[0m\u001b[0m_prun_fn\u001b[0m\u001b[0;34m,\u001b[0m \u001b[0mhandle\u001b[0m\u001b[0;34m,\u001b[0m \u001b[0mfeeds\u001b[0m\u001b[0;34m,\u001b[0m \u001b[0mfetches\u001b[0m\u001b[0;34m)\u001b[0m\u001b[0;34m\u001b[0m\u001b[0;34m\u001b[0m\u001b[0m\n",
      "\u001b[0;32m/mnt/407242D87242D1F8/anaconda3/lib/python3.6/site-packages/tensorflow/python/client/session.py\u001b[0m in \u001b[0;36m_do_call\u001b[0;34m(self, fn, *args)\u001b[0m\n\u001b[1;32m   1332\u001b[0m   \u001b[0;32mdef\u001b[0m \u001b[0m_do_call\u001b[0m\u001b[0;34m(\u001b[0m\u001b[0mself\u001b[0m\u001b[0;34m,\u001b[0m \u001b[0mfn\u001b[0m\u001b[0;34m,\u001b[0m \u001b[0;34m*\u001b[0m\u001b[0margs\u001b[0m\u001b[0;34m)\u001b[0m\u001b[0;34m:\u001b[0m\u001b[0;34m\u001b[0m\u001b[0;34m\u001b[0m\u001b[0m\n\u001b[1;32m   1333\u001b[0m     \u001b[0;32mtry\u001b[0m\u001b[0;34m:\u001b[0m\u001b[0;34m\u001b[0m\u001b[0;34m\u001b[0m\u001b[0m\n\u001b[0;32m-> 1334\u001b[0;31m       \u001b[0;32mreturn\u001b[0m \u001b[0mfn\u001b[0m\u001b[0;34m(\u001b[0m\u001b[0;34m*\u001b[0m\u001b[0margs\u001b[0m\u001b[0;34m)\u001b[0m\u001b[0;34m\u001b[0m\u001b[0;34m\u001b[0m\u001b[0m\n\u001b[0m\u001b[1;32m   1335\u001b[0m     \u001b[0;32mexcept\u001b[0m \u001b[0merrors\u001b[0m\u001b[0;34m.\u001b[0m\u001b[0mOpError\u001b[0m \u001b[0;32mas\u001b[0m \u001b[0me\u001b[0m\u001b[0;34m:\u001b[0m\u001b[0;34m\u001b[0m\u001b[0;34m\u001b[0m\u001b[0m\n\u001b[1;32m   1336\u001b[0m       \u001b[0mmessage\u001b[0m \u001b[0;34m=\u001b[0m \u001b[0mcompat\u001b[0m\u001b[0;34m.\u001b[0m\u001b[0mas_text\u001b[0m\u001b[0;34m(\u001b[0m\u001b[0me\u001b[0m\u001b[0;34m.\u001b[0m\u001b[0mmessage\u001b[0m\u001b[0;34m)\u001b[0m\u001b[0;34m\u001b[0m\u001b[0;34m\u001b[0m\u001b[0m\n",
      "\u001b[0;32m/mnt/407242D87242D1F8/anaconda3/lib/python3.6/site-packages/tensorflow/python/client/session.py\u001b[0m in \u001b[0;36m_run_fn\u001b[0;34m(feed_dict, fetch_list, target_list, options, run_metadata)\u001b[0m\n\u001b[1;32m   1317\u001b[0m       \u001b[0mself\u001b[0m\u001b[0;34m.\u001b[0m\u001b[0m_extend_graph\u001b[0m\u001b[0;34m(\u001b[0m\u001b[0;34m)\u001b[0m\u001b[0;34m\u001b[0m\u001b[0;34m\u001b[0m\u001b[0m\n\u001b[1;32m   1318\u001b[0m       return self._call_tf_sessionrun(\n\u001b[0;32m-> 1319\u001b[0;31m           options, feed_dict, fetch_list, target_list, run_metadata)\n\u001b[0m\u001b[1;32m   1320\u001b[0m \u001b[0;34m\u001b[0m\u001b[0m\n\u001b[1;32m   1321\u001b[0m     \u001b[0;32mdef\u001b[0m \u001b[0m_prun_fn\u001b[0m\u001b[0;34m(\u001b[0m\u001b[0mhandle\u001b[0m\u001b[0;34m,\u001b[0m \u001b[0mfeed_dict\u001b[0m\u001b[0;34m,\u001b[0m \u001b[0mfetch_list\u001b[0m\u001b[0;34m)\u001b[0m\u001b[0;34m:\u001b[0m\u001b[0;34m\u001b[0m\u001b[0;34m\u001b[0m\u001b[0m\n",
      "\u001b[0;32m/mnt/407242D87242D1F8/anaconda3/lib/python3.6/site-packages/tensorflow/python/client/session.py\u001b[0m in \u001b[0;36m_call_tf_sessionrun\u001b[0;34m(self, options, feed_dict, fetch_list, target_list, run_metadata)\u001b[0m\n\u001b[1;32m   1405\u001b[0m     return tf_session.TF_SessionRun_wrapper(\n\u001b[1;32m   1406\u001b[0m         \u001b[0mself\u001b[0m\u001b[0;34m.\u001b[0m\u001b[0m_session\u001b[0m\u001b[0;34m,\u001b[0m \u001b[0moptions\u001b[0m\u001b[0;34m,\u001b[0m \u001b[0mfeed_dict\u001b[0m\u001b[0;34m,\u001b[0m \u001b[0mfetch_list\u001b[0m\u001b[0;34m,\u001b[0m \u001b[0mtarget_list\u001b[0m\u001b[0;34m,\u001b[0m\u001b[0;34m\u001b[0m\u001b[0;34m\u001b[0m\u001b[0m\n\u001b[0;32m-> 1407\u001b[0;31m         run_metadata)\n\u001b[0m\u001b[1;32m   1408\u001b[0m \u001b[0;34m\u001b[0m\u001b[0m\n\u001b[1;32m   1409\u001b[0m   \u001b[0;32mdef\u001b[0m \u001b[0m_call_tf_sessionprun\u001b[0m\u001b[0;34m(\u001b[0m\u001b[0mself\u001b[0m\u001b[0;34m,\u001b[0m \u001b[0mhandle\u001b[0m\u001b[0;34m,\u001b[0m \u001b[0mfeed_dict\u001b[0m\u001b[0;34m,\u001b[0m \u001b[0mfetch_list\u001b[0m\u001b[0;34m)\u001b[0m\u001b[0;34m:\u001b[0m\u001b[0;34m\u001b[0m\u001b[0;34m\u001b[0m\u001b[0m\n",
      "\u001b[0;31mKeyboardInterrupt\u001b[0m: "
     ]
    }
   ],
   "source": [
    "epochs = 10\n",
    "batch_size = 1000\n",
    "window_size = 10\n",
    "\n",
    "with train_graph.as_default():\n",
    "    saver = tf.train.Saver()\n",
    "\n",
    "with tf.Session(graph=train_graph) as sess:\n",
    "    iteration = 1\n",
    "    loss = 0\n",
    "    sess.run(tf.global_variables_initializer())\n",
    "\n",
    "    for e in range(1, epochs+1):\n",
    "        batches = get_batches(train_words, batch_size, window_size)\n",
    "        start = time.time()\n",
    "        for x, y in batches:\n",
    "            \n",
    "            feed = {inputs: x,\n",
    "                    labels: np.array(y)[:, None]}\n",
    "            train_loss, _ = sess.run([cost, optimizer], feed_dict=feed)\n",
    "            \n",
    "            loss += train_loss\n",
    "            \n",
    "            if iteration % 100 == 0: \n",
    "                end = time.time()\n",
    "                print(\"Epoch {}/{}\".format(e, epochs),\n",
    "                      \"Iteration: {}\".format(iteration),\n",
    "                      \"Avg. Training loss: {:.4f}\".format(loss/100),\n",
    "                      \"{:.4f} sec/batch\".format((end-start)/100))\n",
    "                loss = 0\n",
    "                start = time.time()\n",
    "            \n",
    "            if iteration % 1000 == 0:\n",
    "                ## From Thushan Ganegedara's implementation\n",
    "                # note that this is expensive (~20% slowdown if computed every 500 steps)\n",
    "                sim = similarity.eval()\n",
    "                for i in range(valid_size):\n",
    "                    valid_word = int_to_vocab[valid_examples[i]]\n",
    "                    top_k = 8 # number of nearest neighbors\n",
    "                    nearest = (-sim[i, :]).argsort()[1:top_k+1]\n",
    "                    log = 'Nearest to %s:' % valid_word\n",
    "                    for k in range(top_k):\n",
    "                        close_word = int_to_vocab[nearest[k]]\n",
    "                        log = '%s %s,' % (log, close_word)\n",
    "                    print(log)\n",
    "            \n",
    "            iteration += 1\n",
    "    save_path = saver.save(sess, \"checkpoints/text8.ckpt\")\n",
    "    embed_mat = sess.run(normalized_embedding)"
   ]
  },
  {
   "cell_type": "markdown",
   "metadata": {},
   "source": [
    "Restore the trained network if you need to:"
   ]
  },
  {
   "cell_type": "code",
   "execution_count": null,
   "metadata": {
    "collapsed": true
   },
   "outputs": [],
   "source": [
    "with train_graph.as_default():\n",
    "    saver = tf.train.Saver()\n",
    "\n",
    "with tf.Session(graph=train_graph) as sess:\n",
    "    saver.restore(sess, tf.train.latest_checkpoint('checkpoints'))\n",
    "    embed_mat = sess.run(embedding)"
   ]
  },
  {
   "cell_type": "markdown",
   "metadata": {},
   "source": [
    "## Visualizing the word vectors\n",
    "\n",
    "Below we'll use T-SNE to visualize how our high-dimensional word vectors cluster together. T-SNE is used to project these vectors into two dimensions while preserving local stucture. Check out [this post from Christopher Olah](http://colah.github.io/posts/2014-10-Visualizing-MNIST/) to learn more about T-SNE and other ways to visualize high-dimensional data."
   ]
  },
  {
   "cell_type": "code",
   "execution_count": null,
   "metadata": {
    "collapsed": true
   },
   "outputs": [],
   "source": [
    "%matplotlib inline\n",
    "%config InlineBackend.figure_format = 'retina'\n",
    "\n",
    "import matplotlib.pyplot as plt\n",
    "from sklearn.manifold import TSNE"
   ]
  },
  {
   "cell_type": "code",
   "execution_count": null,
   "metadata": {
    "collapsed": true
   },
   "outputs": [],
   "source": [
    "viz_words = 500\n",
    "tsne = TSNE()\n",
    "embed_tsne = tsne.fit_transform(embed_mat[:viz_words, :])"
   ]
  },
  {
   "cell_type": "code",
   "execution_count": null,
   "metadata": {
    "collapsed": true
   },
   "outputs": [],
   "source": [
    "fig, ax = plt.subplots(figsize=(14, 14))\n",
    "for idx in range(viz_words):\n",
    "    plt.scatter(*embed_tsne[idx, :], color='steelblue')\n",
    "    plt.annotate(int_to_vocab[idx], (embed_tsne[idx, 0], embed_tsne[idx, 1]), alpha=0.7)"
   ]
  }
 ],
 "metadata": {
  "kernelspec": {
   "display_name": "Python 3",
   "language": "python",
   "name": "python3"
  },
  "language_info": {
   "codemirror_mode": {
    "name": "ipython",
    "version": 3
   },
   "file_extension": ".py",
   "mimetype": "text/x-python",
   "name": "python",
   "nbconvert_exporter": "python",
   "pygments_lexer": "ipython3",
   "version": "3.6.8"
  }
 },
 "nbformat": 4,
 "nbformat_minor": 2
}
